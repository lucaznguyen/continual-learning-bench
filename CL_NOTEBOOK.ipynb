{
 "cells": [
  {
   "cell_type": "code",
   "execution_count": 2,
   "id": "d8514edf",
   "metadata": {},
   "outputs": [
    {
     "ename": "ModuleNotFoundError",
     "evalue": "No module named 'torchtext'",
     "output_type": "error",
     "traceback": [
      "\u001b[31m---------------------------------------------------------------------------\u001b[39m",
      "\u001b[31mModuleNotFoundError\u001b[39m                       Traceback (most recent call last)",
      "\u001b[36mCell\u001b[39m\u001b[36m \u001b[39m\u001b[32mIn[2]\u001b[39m\u001b[32m, line 7\u001b[39m\n\u001b[32m      1\u001b[39m \u001b[38;5;66;03m# =========================\u001b[39;00m\n\u001b[32m      2\u001b[39m \u001b[38;5;66;03m# Milestone 0 – Config cell\u001b[39;00m\n\u001b[32m      3\u001b[39m \u001b[38;5;66;03m# =========================\u001b[39;00m\n\u001b[32m      4\u001b[39m \u001b[38;5;66;03m# Installs (if missing) and imports all core libraries.\u001b[39;00m\n\u001b[32m      6\u001b[39m \u001b[38;5;28;01mimport\u001b[39;00m\u001b[38;5;250m \u001b[39m\u001b[34;01msys\u001b[39;00m,\u001b[38;5;250m \u001b[39m\u001b[34;01msubprocess\u001b[39;00m,\u001b[38;5;250m \u001b[39m\u001b[34;01mpkg_resources\u001b[39;00m\n\u001b[32m----> \u001b[39m\u001b[32m7\u001b[39m \u001b[38;5;28;01mimport\u001b[39;00m\u001b[38;5;250m \u001b[39m\u001b[34;01mtorch\u001b[39;00m,\u001b[38;5;250m \u001b[39m\u001b[34;01mtorchvision\u001b[39;00m,\u001b[38;5;250m \u001b[39m\u001b[34;01mtorchtext\u001b[39;00m          \u001b[38;5;66;03m# PyTorch ecosystem\u001b[39;00m\n\u001b[32m      8\u001b[39m \u001b[38;5;28;01mfrom\u001b[39;00m\u001b[38;5;250m \u001b[39m\u001b[34;01msklearn\u001b[39;00m\u001b[38;5;250m \u001b[39m\u001b[38;5;28;01mimport\u001b[39;00m datasets \u001b[38;5;28;01mas\u001b[39;00m _sk_datasets   \u001b[38;5;66;03m# quick smoke‑test import\u001b[39;00m\n\u001b[32m      9\u001b[39m \u001b[38;5;28;01mimport\u001b[39;00m\u001b[38;5;250m \u001b[39m\u001b[34;01mmatplotlib\u001b[39;00m\u001b[34;01m.\u001b[39;00m\u001b[34;01mpyplot\u001b[39;00m\u001b[38;5;250m \u001b[39m\u001b[38;5;28;01mas\u001b[39;00m\u001b[38;5;250m \u001b[39m\u001b[34;01mplt\u001b[39;00m\n",
      "\u001b[31mModuleNotFoundError\u001b[39m: No module named 'torchtext'"
     ]
    }
   ],
   "source": [
    "# =========================\n",
    "# Milestone 0 – Config cell\n",
    "# =========================\n",
    "# Installs (if missing) and imports all core libraries.\n",
    "\n",
    "import sys, subprocess, pkg_resources\n",
    "import torch, torchvision, torchtext          # PyTorch ecosystem\n",
    "from sklearn import datasets as _sk_datasets   # quick smoke‑test import\n",
    "import matplotlib.pyplot as plt\n",
    "from tqdm.auto import tqdm\n",
    "import ipywidgets as widgets\n",
    "\n",
    "print(f\"PyTorch {torch.__version__} — CUDA available:\", torch.cuda.is_available())\n"
   ]
  },
  {
   "cell_type": "code",
   "execution_count": null,
   "id": "317e8d66",
   "metadata": {},
   "outputs": [],
   "source": [
    "# ==========================\n",
    "# Milestone 0 – Globals cell\n",
    "# ==========================\n",
    "import random, os, numpy as np, torch\n",
    "\n",
    "def set_all_seeds(seed: int = 42):\n",
    "    random.seed(seed)\n",
    "    np.random.seed(seed)\n",
    "    torch.manual_seed(seed)\n",
    "    torch.cuda.manual_seed_all(seed)\n",
    "    torch.backends.cudnn.deterministic = True\n",
    "    torch.backends.cudnn.benchmark = False\n",
    "\n",
    "set_all_seeds()\n",
    "\n",
    "DEVICE = torch.device(\"cuda\" if torch.cuda.is_available() else \"cpu\")\n",
    "print(\"Using device:\", DEVICE)\n",
    "\n",
    "# ------------------------------------------------------------------\n",
    "# Central configuration dictionary — will grow in later milestones\n",
    "# ------------------------------------------------------------------\n",
    "cfg = {\n",
    "    \"seed\": 42,\n",
    "    \"device\": DEVICE,\n",
    "    \"mode\": \"vision\",            # {\"vision\", \"nlp\", \"timeseries\"}\n",
    "    \"scenario\": \"task\",          # {\"task\", \"class\", \"domain\"}\n",
    "    \"batch_size\": 128,\n",
    "    \"epochs\": 1,\n",
    "    \"learning_rate\": 1e-3,\n",
    "}\n",
    "\n",
    "cfg\n"
   ]
  }
 ],
 "metadata": {
  "kernelspec": {
   "display_name": "base",
   "language": "python",
   "name": "python3"
  },
  "language_info": {
   "codemirror_mode": {
    "name": "ipython",
    "version": 3
   },
   "file_extension": ".py",
   "mimetype": "text/x-python",
   "name": "python",
   "nbconvert_exporter": "python",
   "pygments_lexer": "ipython3",
   "version": "3.13.5"
  }
 },
 "nbformat": 4,
 "nbformat_minor": 5
}
